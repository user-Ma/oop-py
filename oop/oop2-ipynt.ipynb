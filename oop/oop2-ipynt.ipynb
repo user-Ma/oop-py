{
 "cells": [
  {
   "cell_type": "code",
   "execution_count": 1,
   "metadata": {
    "collapsed": true
   },
   "outputs": [
    {
     "name": "stdout",
     "output_type": "stream",
     "text": [
      "wang\n18\n\n\n1628919249752\n140721977996656\n\n\nwang\n18\n1628919249752\n140721977996656\n"
     ]
    }
   ],
   "source": [
    "class A:\n",
    "    name = 'wang'\n",
    "    age = 18\n",
    "    \n",
    "    # 注意函数写法，参数有一个self\n",
    "    def say(self):\n",
    "        self.name = \"aaa\"\n",
    "        self.age = 20\n",
    "        \n",
    "\n",
    "# 此时，A称为类的实例\n",
    "print(A.name)\n",
    "print(A.age)\n",
    "\n",
    "print(\"\\n\")\n",
    "\n",
    "print(id(A.name))\n",
    "print(id(A.age))\n",
    "print(\"\\n\")\n",
    "# 定义对象实例\n",
    "a = A()\n",
    "\n",
    "print(a.name)\n",
    "print(a.age)\n",
    "# 注意与A相同，说明\n",
    "# 类实例的属性和其对象的实例属性\n",
    "# 在不对对象的实例属性赋值的条件下，指向同一个变量\n",
    "print(id(a.name))\n",
    "print(id(a.age))\n"
   ]
  },
  {
   "cell_type": "code",
   "execution_count": 3,
   "metadata": {},
   "outputs": [
    {
     "name": "stdout",
     "output_type": "stream",
     "text": [
      "wang\n18\n\n\n1628919249752\n140721977996656\n\n\n{'__module__': '__main__', 'name': 'wang', 'age': 18, 'say': <function A.say at 0x0000017B43285598>, '__dict__': <attribute '__dict__' of 'A' objects>, '__weakref__': <attribute '__weakref__' of 'A' objects>, '__doc__': None}\n{}\nyao\n16\n1628919249976\n140721977996592\n{'name': 'yao', 'age': 16}\n"
     ]
    }
   ],
   "source": [
    "print(A.name)\n",
    "print(A.age)\n",
    "\n",
    "print(\"\\n\")\n",
    "\n",
    "print(id(A.name))\n",
    "print(id(A.age))\n",
    "print(\"\\n\")\n",
    "\n",
    "a = A()\n",
    "print(A.__dict__)\n",
    "print(a.__dict__)\n",
    "\n",
    "a.name = \"yao\"\n",
    "a.age = 16\n",
    "print(a.name)\n",
    "print(a.age)\n",
    "print(id(a.name))\n",
    "print(id(a.age))\n",
    "print(a.__dict__)\n"
   ]
  },
  {
   "cell_type": "code",
   "execution_count": 8,
   "metadata": {},
   "outputs": [
    {
     "name": "stdout",
     "output_type": "stream",
     "text": [
      "My name is aaa\nI am 20 years old\naaa 20\nMy name is bbb\nI am 90 years old\nbbb 90\n"
     ]
    }
   ],
   "source": [
    "class Student:\n",
    "    name = 'wang'\n",
    "    age = 18\n",
    "    \n",
    "    # 注意函数写法，参数有一个self，代表对象自己，self不是Python关键字\n",
    "    def say(self):\n",
    "        self.name = \"aaa\"\n",
    "        self.age = 20\n",
    "        print(\"My name is {0}\".format(self.name) )\n",
    "        print(\"I am {0} years old\".format(self.age))\n",
    "    \n",
    "    def say_again(s):\n",
    "        s.name = \"bbb\"\n",
    "        s.age = 90\n",
    "        print(\"My name is {0}\".format(s.name))\n",
    "        print(\"I am {0} years old\".format(s.age))\n",
    "        \n",
    "        \n",
    "yue = Student()\n",
    "yue.say()\n",
    "print(yue.name, yue.age)\n",
    "yue.say_again()\n",
    "print(yue.name, yue.age)\n",
    "\n"
   ]
  },
  {
   "cell_type": "code",
   "execution_count": 12,
   "metadata": {},
   "outputs": [
    {
     "name": "stdout",
     "output_type": "stream",
     "text": [
      "wa 19\nMy name is yao\nI am 20 years old\nyao 20\n\n\nwa\n19\nhello, nice to see you again\n"
     ]
    }
   ],
   "source": [
    "class Teacher:\n",
    "    name = 'wa'\n",
    "    age = 19\n",
    "    \n",
    "    def say(self):\n",
    "        self.name = \"yao\"\n",
    "        self.age = 20\n",
    "        print(\"My name is {0}\".format(self.name) )\n",
    "        print(\"I am {0} years old\".format(self.age))\n",
    "    \n",
    "    @staticmethod\n",
    "    def say_again():\n",
    "        print(__class__.name)\n",
    "        print(__class__.age)\n",
    "        print(\"hello, nice to see you again\")\n",
    "\n",
    "\n",
    "t = Teacher()\n",
    "print(t.name, t.age)\n",
    "t.say()\n",
    "print(t.name, t.age)\n",
    "\n",
    "# 调用绑定类函数使用类名\n",
    "print(\"\\n\")\n",
    "Teacher.say_again()\n"
   ]
  },
  {
   "cell_type": "code",
   "execution_count": 15,
   "metadata": {},
   "outputs": [
    {
     "name": "stdout",
     "output_type": "stream",
     "text": [
      "wang\n23\n\n\nwang\n23\n\n\nliu\n89\n\n\nban\n90\n"
     ]
    }
   ],
   "source": [
    "# 关于self的案例\n",
    "class A:\n",
    "    name = \"liu\"\n",
    "    age = 89\n",
    "    \n",
    "    def __init__(self):\n",
    "        self.name = \"wang\"\n",
    "        self.age = 23\n",
    "    \n",
    "    def say(self):\n",
    "        print(self.name)\n",
    "        print(self.age)\n",
    "\n",
    "\n",
    "class B:\n",
    "    name = \"ban\"\n",
    "    age = 90\n",
    "    \n",
    "\n",
    "a = A()\n",
    "# 系统默认将a作为第一个参数传入函数\n",
    "a.say()  # A.say（）调用会报错\n",
    "\n",
    "print(\"\\n\")\n",
    "A.say(a)  # 此时，self被a替换\n",
    "print(\"\\n\")\n",
    "# A也可以作为参数传入\n",
    "A.say(A)\n",
    "print(\"\\n\")\n",
    "A.say(B)  # 此时，传入类实例B，由于B具有name和age属性不会报错\n",
    "# 利用了鸭子模型\n"
   ]
  },
  {
   "cell_type": "code",
   "execution_count": 18,
   "metadata": {},
   "outputs": [
    {
     "name": "stdout",
     "output_type": "stream",
     "text": [
      "liu\n"
     ]
    }
   ],
   "source": [
    "# 私有变量\n",
    "class Person:\n",
    "    # name是共有的成员\n",
    "    name = \"liu\"\n",
    "    # __age是私有成员\n",
    "    __age = 18\n",
    "\n",
    "\n",
    "p = Person()\n",
    "print(p.name)\n",
    "# print(p.__age)\n"
   ]
  },
  {
   "cell_type": "code",
   "execution_count": 20,
   "metadata": {},
   "outputs": [
    {
     "name": "stdout",
     "output_type": "stream",
     "text": [
      "{'__module__': '__main__', 'name': 'liu', '_Person__age': 18, '__dict__': <attribute '__dict__' of 'Person' objects>, '__weakref__': <attribute '__weakref__' of 'Person' objects>, '__doc__': None}\n\n\n89\n"
     ]
    }
   ],
   "source": [
    "# name mangling技术\n",
    "print(Person.__dict__)\n",
    "\n",
    "print(\"\\n\")\n",
    "p._Person__age = 89\n",
    "print(p._Person__age)  # 警告\n"
   ]
  },
  {
   "cell_type": "code",
   "execution_count": 26,
   "metadata": {},
   "outputs": [
    {
     "name": "stdout",
     "output_type": "stream",
     "text": [
      "wan None\nsleeping: zzz...\n9527\nattention\n"
     ]
    }
   ],
   "source": [
    "# 继承的语法\n",
    "# Python中，任何一个类都有一个父类叫object\n",
    "\n",
    "\n",
    "class Person:\n",
    "    name = None\n",
    "    age = 0\n",
    "    _pet_name = \"sec\"  # protected，子类可用，但不能公用\n",
    "    __score = 80  # 私有\n",
    "    \n",
    "    @staticmethod\n",
    "    def sleep():\n",
    "        print(\"sleeping: zzz...\")\n",
    "\n",
    "\n",
    "# 父类写在括号里\n",
    "\n",
    "\n",
    "class Teacher(Person):\n",
    "    teacher_id = \"9527\"  # 子类有独有\n",
    "    name = \"wan\"\n",
    "    \n",
    "    @staticmethod\n",
    "    def make_test():\n",
    "        print(\"attention\")\n",
    "\n",
    "\n",
    "t = Teacher()\n",
    "print(t.name, Person.name)  # 相同成员，优先使用子类\n",
    "# print(t._pet_name)警告，但可访问\n",
    "# print(t.__score)公开访问私有变量，报错\n",
    "\n",
    "t.sleep()\n",
    "\n",
    "print(t.teacher_id)\n",
    "t.make_test()\n"
   ]
  },
  {
   "cell_type": "code",
   "execution_count": 28,
   "metadata": {},
   "outputs": [
    {
     "name": "stdout",
     "output_type": "stream",
     "text": [
      "make money\nattention\n"
     ]
    }
   ],
   "source": [
    "# 子类扩充父类案例\n",
    "class Person:\n",
    "    name = None\n",
    "    age = 0\n",
    "    _pet_name = \"sec\"  # protected，子类可用，但不能公用\n",
    "    __score = 80  # 私有\n",
    "    \n",
    "    @staticmethod\n",
    "    def sleep():\n",
    "        print(\"sleeping: zzz...\")\n",
    "    \n",
    "    @staticmethod\n",
    "    def work():\n",
    "        print(\"make money\")\n",
    "\n",
    "\n",
    "class Teacher(Person):\n",
    "    teacher_id = \"9527\"  # 子类有独有\n",
    "    name = \"wan\"\n",
    "    \n",
    "    @staticmethod\n",
    "    def make_test():\n",
    "        print(\"attention\")\n",
    "        \n",
    "    def work(self):\n",
    "        # 扩充父类的功能：调用父类的相应的函数\n",
    "        # Person.work()\n",
    "        super().work()\n",
    "        self.make_test()\n",
    "        \n",
    "\n",
    "t = Teacher()\n",
    "t.work()\n"
   ]
  },
  {
   "cell_type": "code",
   "execution_count": 29,
   "metadata": {},
   "outputs": [
    {
     "name": "stdout",
     "output_type": "stream",
     "text": [
      "i am a dog\n"
     ]
    }
   ],
   "source": [
    "# 构造函数的概念\n",
    "class Dog:\n",
    "    # __init__是构造函数\n",
    "    # 实例化时第一个被调用,自动，主要工作是对实例对象初始化\n",
    "    def __init__(self):\n",
    "        print(\"i am a dog\")\n",
    "\n",
    "\n",
    "# 实例化的时候，括号内的参数需要与构造函数参数匹配\n",
    "ka_ka = Dog()\n"
   ]
  },
  {
   "cell_type": "code",
   "execution_count": 32,
   "metadata": {},
   "outputs": [
    {
     "name": "stdout",
     "output_type": "stream",
     "text": [
      "it is a dog\napple belongs among the mammals\n"
     ]
    }
   ],
   "source": [
    "# 继承中的构造函数\n",
    "class Animal:\n",
    "    def __init__(self):\n",
    "        print(\"it should be protected\")\n",
    "\n",
    "\n",
    "class Mammal(Animal):\n",
    "    def __init__(self, name):\n",
    "        print(\"{0} belongs among the mammals\".format(name))\n",
    "\n",
    "\n",
    "class Dog(Mammal):\n",
    "    def __init__(self):\n",
    "        print(\"it is a dog\")\n",
    "\n",
    "\n",
    "class Cat(Mammal):\n",
    "    pass\n",
    "\n",
    "\n",
    "# 实例化Dog时，查找Dog的构造函数，参数匹配\n",
    "ka_ka = Dog()\n",
    "# 自动调用构造函数，Cat没有构造函数，则调用父类的\n",
    "# 调用时注意Mammal构造函数需要两个参数\n",
    "cat = Cat(\"apple\")  \n"
   ]
  },
  {
   "cell_type": "code",
   "execution_count": 1,
   "metadata": {},
   "outputs": [
    {
     "name": "stdout",
     "output_type": "stream",
     "text": [
      "(<class '__main__.A'>, <class 'object'>)\n(<class '__main__.B'>, <class '__main__.A'>, <class 'object'>)\n"
     ]
    }
   ],
   "source": [
    "# 关于super\n",
    "class A:\n",
    "    pass\n",
    "\n",
    "\n",
    "class B(A):\n",
    "    pass\n",
    "\n",
    "\n",
    "print(A.__mro__)\n",
    "print(B.__mro__)\n"
   ]
  },
  {
   "cell_type": "code",
   "execution_count": 3,
   "metadata": {},
   "outputs": [
    {
     "name": "stdout",
     "output_type": "stream",
     "text": [
      "i am flying\ni am working\ni am swimming\n"
     ]
    }
   ],
   "source": [
    "# 单继承与多继承\n",
    "# 子类可直接拥有父类的属性和方法，私有属性和方法除外\n",
    "\n",
    "\n",
    "class Fish:\n",
    "    def __init__(self, name):\n",
    "        self.name = name\n",
    "    \n",
    "    @staticmethod\n",
    "    def swim():\n",
    "        print(\"i am swimming\")\n",
    "        \n",
    "        \n",
    "class Bird:\n",
    "    def __init__(self, name):\n",
    "        self.name = name\n",
    "    \n",
    "    @staticmethod\n",
    "    def fly():\n",
    "        print(\"i am flying\")\n",
    "\n",
    "\n",
    "class Person:\n",
    "    def __init__(self, name):\n",
    "        self.name = name\n",
    "    \n",
    "    @staticmethod\n",
    "    def work():\n",
    "        print(\"i am working\")\n",
    "        \n",
    "\n",
    "class Superman(Person, Fish, Bird):  # 此处参数有顺序\n",
    "    def __init__(self, name):\n",
    "        self.name = name\n",
    "\n",
    "\n",
    "s = Superman(\"yue\")\n",
    "\n",
    "s.fly()\n",
    "s.work()\n",
    "s.swim()\n"
   ]
  },
  {
   "cell_type": "code",
   "execution_count": 4,
   "metadata": {},
   "outputs": [
    {
     "name": "stdout",
     "output_type": "stream",
     "text": [
      "Help on class super in module builtins:\n\nclass super(object)\n |  super() -> same as super(__class__, <first argument>)\n |  super(type) -> unbound super object\n |  super(type, obj) -> bound super object; requires isinstance(obj, type)\n |  super(type, type2) -> bound super object; requires issubclass(type2, type)\n |  Typical use to call a cooperative superclass method:\n |  class C(B):\n |      def meth(self, arg):\n |          super().meth(arg)\n |  This works for class methods too:\n |  class C(B):\n |      @classmethod\n |      def cmeth(cls, arg):\n |          super().cmeth(arg)\n |  \n |  Methods defined here:\n |  \n |  __get__(self, instance, owner, /)\n |      Return an attribute of instance, which is of type owner.\n |  \n |  __getattribute__(self, name, /)\n |      Return getattr(self, name).\n |  \n |  __init__(self, /, *args, **kwargs)\n |      Initialize self.  See help(type(self)) for accurate signature.\n |  \n |  __repr__(self, /)\n |      Return repr(self).\n |  \n |  ----------------------------------------------------------------------\n |  Static methods defined here:\n |  \n |  __new__(*args, **kwargs) from builtins.type\n |      Create and return a new object.  See help(type) for accurate signature.\n |  \n |  ----------------------------------------------------------------------\n |  Data descriptors defined here:\n |  \n |  __self__\n |      the instance invoking super(); may be None\n |  \n |  __self_class__\n |      the type of the instance invoking super(); may be None\n |  \n |  __thisclass__\n |      the class invoking super()\n\nNone\n"
     ]
    }
   ],
   "source": [
    "print(help(super))\n"
   ]
  },
  {
   "cell_type": "code",
   "execution_count": 6,
   "metadata": {},
   "outputs": [
    {
     "name": "stdout",
     "output_type": "stream",
     "text": [
      "(<class '__main__.Tutor'>, <class '__main__.Teacher'>, <class '__main__.Student'>, <class '__main__.Person'>, <class 'object'>)\n\n\n{}\n\n\n{'__module__': '__main__', '__doc__': None}\n\n\n(<class '__main__.TutorMixin'>, <class '__main__.Person'>, <class '__main__.TeacherMixin'>, <class '__main__.StudentMixin'>, <class 'object'>)\n\n\n{}\n\n\n{'__module__': '__main__', '__doc__': None}\n"
     ]
    }
   ],
   "source": [
    "# Mixin案例\n",
    "class Person:\n",
    "    name = \"liu\"\n",
    "    age = 188\n",
    "    \n",
    "    @staticmethod\n",
    "    def eat():\n",
    "        print(\"i am eating\")\n",
    "    \n",
    "    @staticmethod    \n",
    "    def drink():\n",
    "        print(\"i am drinking\")\n",
    "        \n",
    "    @staticmethod\n",
    "    def sleep():\n",
    "        print(\"i am sleeping\")\n",
    "        \n",
    "\n",
    "class Teacher(Person):\n",
    "    @staticmethod\n",
    "    def work():\n",
    "        print(\"i am working\")\n",
    "\n",
    "\n",
    "class Student(Person):\n",
    "    @staticmethod\n",
    "    def study():\n",
    "        print(\"i am studying\")\n",
    "\n",
    "\n",
    "class Tutor(Teacher, Student):\n",
    "    pass\n",
    "\n",
    "\n",
    "t = Tutor()\n",
    "print(Tutor.__mro__)\n",
    "print(\"\\n\")\n",
    "print(t.__dict__)\n",
    "print(\"\\n\")\n",
    "print(Tutor.__dict__)\n",
    "\n",
    "print(\"\\n\")\n",
    "\n",
    "\n",
    "class TeacherMixin:\n",
    "    @staticmethod\n",
    "    def work():\n",
    "        print(\"i am working\")\n",
    "\n",
    "\n",
    "class StudentMixin:\n",
    "    @staticmethod\n",
    "    def study():\n",
    "        print(\"i am studying\")\n",
    "\n",
    "\n",
    "class TutorMixin(Person, TeacherMixin, StudentMixin):\n",
    "    pass\n",
    "\n",
    "\n",
    "tt = Tutor()\n",
    "print(TutorMixin.__mro__)\n",
    "print(\"\\n\")\n",
    "print(tt.__dict__)\n",
    "print(\"\\n\")\n",
    "print(TutorMixin.__dict__)\n"
   ]
  },
  {
   "cell_type": "code",
   "execution_count": 8,
   "metadata": {},
   "outputs": [
    {
     "name": "stdout",
     "output_type": "stream",
     "text": [
      "True\nFalse\nTrue\nTrue\n"
     ]
    }
   ],
   "source": [
    "# issubclass 使用\n",
    "class A:\n",
    "    pass\n",
    "\n",
    "\n",
    "class B(A):\n",
    "    pass\n",
    "\n",
    "\n",
    "class C:\n",
    "    pass\n",
    "\n",
    "\n",
    "a = A()\n",
    "print(issubclass(B, A))\n",
    "print(issubclass(C, A))\n",
    "print(issubclass(A, object))\n",
    "print(isinstance(a, A))\n"
   ]
  },
  {
   "cell_type": "code",
   "execution_count": 14,
   "metadata": {},
   "outputs": [
    {
     "name": "stdout",
     "output_type": "stream",
     "text": [
      "True\nFalse\n\n\n"
     ]
    },
    {
     "data": {
      "text/plain": [
       "['__class__',\n '__delattr__',\n '__dict__',\n '__dir__',\n '__doc__',\n '__eq__',\n '__format__',\n '__ge__',\n '__getattribute__',\n '__gt__',\n '__hash__',\n '__init__',\n '__init_subclass__',\n '__le__',\n '__lt__',\n '__module__',\n '__ne__',\n '__new__',\n '__reduce__',\n '__reduce_ex__',\n '__repr__',\n '__setattr__',\n '__sizeof__',\n '__str__',\n '__subclasshook__',\n '__weakref__',\n 'name']"
      ]
     },
     "execution_count": 14,
     "metadata": {},
     "output_type": "execute_result"
    }
   ],
   "source": [
    "# hasattr\n",
    "class A:\n",
    "    name = \"NoName\"\n",
    "\n",
    "\n",
    "a = A()\n",
    "print(hasattr(a, \"name\"))\n",
    "print(hasattr(a, \"age\"))\n",
    "\n",
    "# print(\"\\n\")\n",
    "# dir(A)\n",
    "\n",
    "print(\"\\n\")\n",
    "dir(a)\n"
   ]
  },
  {
   "cell_type": "code",
   "execution_count": null,
   "metadata": {},
   "outputs": [],
   "source": []
  }
 ],
 "metadata": {
  "kernelspec": {
   "display_name": "Python 2",
   "language": "python",
   "name": "python2"
  },
  "language_info": {
   "codemirror_mode": {
    "name": "ipython",
    "version": 2
   },
   "file_extension": ".py",
   "mimetype": "text/x-python",
   "name": "python",
   "nbconvert_exporter": "python",
   "pygments_lexer": "ipython2",
   "version": "2.7.6"
  }
 },
 "nbformat": 4,
 "nbformat_minor": 0
}
