{
 "cells": [
  {
   "cell_type": "code",
   "execution_count": 5,
   "metadata": {
    "collapsed": true
   },
   "outputs": [
    {
     "name": "stdout",
     "output_type": "stream",
     "text": [
      "Hey, my name is LIU. I am 19\nHey, my name is WANG. I am 90\n"
     ]
    }
   ],
   "source": [
    "# 属性案例\n",
    "# 属性格式不统一\n",
    "# 增加一个函数的方式\n",
    "\n",
    "\n",
    "class Student:\n",
    "    def __init__(self, name, age):\n",
    "        self.name = name\n",
    "        self.age = age\n",
    "        \n",
    "        # 一种修改\n",
    "        self.set_name(name)\n",
    "    \n",
    "    def introduce(self):\n",
    "        print(\"Hey, my name is {0}. I am {1}\".format(self.name, self.age))\n",
    "        \n",
    "    def set_name(self, name):\n",
    "        self.name = name.upper()\n",
    "\n",
    "\n",
    "s1 = Student(\"Liu\", 19)\n",
    "s2 = Student(\"Wang\", 90)\n",
    "\n",
    "s1.introduce()\n",
    "s2.introduce()\n"
   ]
  },
  {
   "cell_type": "code",
   "execution_count": 3,
   "metadata": {},
   "outputs": [
    {
     "name": "stdout",
     "output_type": "stream",
     "text": [
      "TURINGTURING\n"
     ]
    }
   ],
   "source": [
    "# property案例\n",
    "# 要求对任意输入的姓名大写保存；年龄统一用整数保存\n",
    "# property(fget, fset, fdel, doc)\n",
    "\n",
    "\n",
    "class Person:\n",
    "    \"\"\"\n",
    "    这是说明文档，\n",
    "    这是对类的属性进行控制\n",
    "    \"\"\"\n",
    "    def __init__(self, name=\"ChuShiHua\"):\n",
    "        self._name = name  # 只是处理警告“实例属性xxx在__init__外部定义\n",
    "\n",
    "    # 函数的名称可以任意\n",
    "    def f_get(self):\n",
    "        return self._name * 2\n",
    "    \n",
    "    def f_set(self, name):\n",
    "        # name以大写形式保存\n",
    "        self._name = name.upper()\n",
    "        \n",
    "    def f_del(self):\n",
    "        self._name = \"NoName\"\n",
    "\n",
    "    name = property(f_get, f_set, f_del, \"对name大写处理\")\n",
    "\n",
    "\n",
    "p1 = Person()\n",
    "p1.name = \"Turing\"\n",
    "print(p1.name)\n"
   ]
  },
  {
   "cell_type": "code",
   "execution_count": 15,
   "metadata": {},
   "outputs": [
    {
     "name": "stdout",
     "output_type": "stream",
     "text": [
      "Help on class property in module builtins:\n\nclass property(object)\n |  property(fget=None, fset=None, fdel=None, doc=None)\n |  \n |  Property attribute.\n |  \n |    fget\n |      function to be used for getting an attribute value\n |    fset\n |      function to be used for setting an attribute value\n |    fdel\n |      function to be used for del'ing an attribute\n |    doc\n |      docstring\n |  \n |  Typical use is to define a managed attribute x:\n |  \n |  class C(object):\n |      def getx(self): return self._x\n |      def setx(self, value): self._x = value\n |      def delx(self): del self._x\n |      x = property(getx, setx, delx, \"I'm the 'x' property.\")\n |  \n |  Decorators make defining new properties or modifying existing ones easy:\n |  \n |  class C(object):\n |      @property\n |      def x(self):\n |          \"I am the 'x' property.\"\n |          return self._x\n |      @x.setter\n |      def x(self, value):\n |          self._x = value\n |      @x.deleter\n |      def x(self):\n |          del self._x\n |  \n |  Methods defined here:\n |  \n |  __delete__(self, instance, /)\n |      Delete an attribute of instance.\n |  \n |  __get__(self, instance, owner, /)\n |      Return an attribute of instance, which is of type owner.\n |  \n |  __getattribute__(self, name, /)\n |      Return getattr(self, name).\n |  \n |  __init__(self, /, *args, **kwargs)\n |      Initialize self.  See help(type(self)) for accurate signature.\n |  \n |  __set__(self, instance, value, /)\n |      Set an attribute of instance to value.\n |  \n |  deleter(...)\n |      Descriptor to change the deleter on a property.\n |  \n |  getter(...)\n |      Descriptor to change the getter on a property.\n |  \n |  setter(...)\n |      Descriptor to change the setter on a property.\n |  \n |  ----------------------------------------------------------------------\n |  Static methods defined here:\n |  \n |  __new__(*args, **kwargs) from builtins.type\n |      Create and return a new object.  See help(type) for accurate signature.\n |  \n |  ----------------------------------------------------------------------\n |  Data descriptors defined here:\n |  \n |  __isabstractmethod__\n |  \n |  fdel\n |  \n |  fget\n |  \n |  fset\n\nNone\n"
     ]
    }
   ],
   "source": [
    "print(help(property))\n"
   ]
  },
  {
   "cell_type": "code",
   "execution_count": 4,
   "metadata": {},
   "outputs": [
    {
     "name": "stdout",
     "output_type": "stream",
     "text": [
      "{'__module__': '__main__', '__doc__': '\\n    这是说明文档，\\n    这是对类的属性进行控制\\n    ', '__init__': <function Person.__init__ at 0x00000252E5FEBF28>, 'f_get': <function Person.f_get at 0x00000252E5FEBAE8>, 'f_set': <function Person.f_set at 0x00000252E5FEBEA0>, 'f_del': <function Person.f_del at 0x00000252E5FEBBF8>, 'name': <property object at 0x00000252E5FFA048>, '__dict__': <attribute '__dict__' of 'Person' objects>, '__weakref__': <attribute '__weakref__' of 'Person' objects>}\n\n    这是说明文档，\n    这是对类的属性进行控制\n    \n(<class 'object'>,)\nPerson\n"
     ]
    }
   ],
   "source": [
    "# 类的内置属性\n",
    "print(Person.__dict__)\n",
    "print(Person.__doc__)\n",
    "print(Person.__bases__)\n",
    "print(Person.__name__)\n"
   ]
  },
  {
   "cell_type": "code",
   "execution_count": 3,
   "metadata": {},
   "outputs": [
    {
     "name": "stdout",
     "output_type": "stream",
     "text": [
      "A\n70\n"
     ]
    }
   ],
   "source": [
    "# 关于@property\n",
    "# @property关键字。用此关键字，其获取、设置函数，须与属性名一致。\n",
    "# @property可以把一个实例方法变成其同名属性，以支持.号访问，它亦可标记设置限制，加以规范.\n",
    "\n",
    "\n",
    "class Student:\n",
    "    \n",
    "    def __init__(self, score=0):\n",
    "        self._score = score  # 只是处理警告“实例属性xxx在__init__外部定义\n",
    "         \n",
    "    @property  # 装饰器\n",
    "    def score(self):\n",
    "        return self._score\n",
    "    \n",
    "    @score.setter  # 装饰器\n",
    "    def score(self, value):\n",
    "        if not isinstance(value, int):\n",
    "            raise ValueError  # 分数必须是整数\n",
    "        if value < 0 or value > 100:\n",
    "            raise ValueError  # 分数在1-100之间\n",
    "        self._score = value\n",
    "        print(\"A\")\n",
    "\n",
    "\n",
    "s = Student()\n",
    "s.score = 70\n",
    "print(s.score)\n"
   ]
  },
  {
   "cell_type": "code",
   "execution_count": 4,
   "metadata": {},
   "outputs": [
    {
     "name": "stdout",
     "output_type": "stream",
     "text": [
      "i am executed\n"
     ]
    }
   ],
   "source": [
    "# init举例\n",
    "class A:\n",
    "    def __init__(self):\n",
    "        print(\"i am executed\")\n",
    "\n",
    "\n",
    "a = A()\n"
   ]
  },
  {
   "cell_type": "code",
   "execution_count": 5,
   "metadata": {},
   "outputs": [
    {
     "name": "stdout",
     "output_type": "stream",
     "text": [
      "i am executed\ni am called when instance is used as function\n"
     ]
    }
   ],
   "source": [
    "# __call__举例\n",
    "class A:\n",
    "    def __init__(self):\n",
    "        print(\"i am executed\")\n",
    "    \n",
    "    def __call__(self):\n",
    "        print(\"i am called when instance is used as function\")\n",
    "\n",
    "\n",
    "a = A()  # 实例化\n",
    "a()  # 实例作函数调用\n"
   ]
  },
  {
   "cell_type": "code",
   "execution_count": 6,
   "metadata": {},
   "outputs": [
    {
     "name": "stdout",
     "output_type": "stream",
     "text": [
      "i am executed\nit is an example.\n"
     ]
    }
   ],
   "source": [
    "# __str__举例\n",
    "class A:\n",
    "    def __init__(self):\n",
    "        print(\"i am executed\")\n",
    "    \n",
    "    def __call__(self):\n",
    "        print(\"i am called when instance is used as function\")\n",
    "        \n",
    "    def __str__(self):\n",
    "        return \"it is an example.\"\n",
    "\n",
    "\n",
    "a = A()  # 实例化\n",
    "print(a)\n"
   ]
  },
  {
   "cell_type": "code",
   "execution_count": 11,
   "metadata": {},
   "outputs": [
    {
     "name": "stdout",
     "output_type": "stream",
     "text": [
      "NoName\n\n\nnot found\nNone\n\n\nHelp on built-in function getattr in module builtins:\n\ngetattr(...)\n    getattr(object, name[, default]) -> value\n    \n    Get a named attribute from an object; getattr(x, 'y') is equivalent to x.y.\n    When a default argument is given, it is returned when the attribute doesn't\n    exist; without it, an exception is raised in that case.\n\nNone\n"
     ]
    }
   ],
   "source": [
    "# __getattr__举例\n",
    "class B:\n",
    "    name = \"NoName\"\n",
    "    age = 89\n",
    "    \n",
    "    def __getattr__(self, name):\n",
    "        print(\"not found\")\n",
    "        # print(name)\n",
    "    \n",
    "\n",
    "b = B()\n",
    "print(b.name)\n",
    "print(\"\\n\")\n",
    "print(b.attr)  \n",
    "\n",
    "print(\"\\n\")\n",
    "print(help(getattr))\n"
   ]
  },
  {
   "cell_type": "code",
   "execution_count": 12,
   "metadata": {},
   "outputs": [
    {
     "name": "stdout",
     "output_type": "stream",
     "text": [
      "{}\n设置属性：age\n"
     ]
    }
   ],
   "source": [
    "# __setattr__案例\n",
    "class Person:\n",
    "    def __init__(self):\n",
    "        pass\n",
    "    \n",
    "    def __setattr__(self, name, value):\n",
    "        print(\"设置属性：{0}\".format(name))\n",
    "        # 下面语句导致死循环:一复制就调用\n",
    "        # self.name = value\n",
    "        # 此类情况，为避免死循环，规定统一调用父类魔法函数\n",
    "        super().__setattr__(name, value)\n",
    "\n",
    "\n",
    "p = Person()\n",
    "print(p.__dict__)\n",
    "p.age = 18\n"
   ]
  },
  {
   "cell_type": "code",
   "execution_count": 17,
   "metadata": {},
   "outputs": [
    {
     "name": "stdout",
     "output_type": "stream",
     "text": [
      "is two bigger than one?\nTrue\n"
     ]
    }
   ],
   "source": [
    "# __gt__ e.g.\n",
    "class Student:\n",
    "    def __init__(self, name):\n",
    "        self._name = name\n",
    "        \n",
    "    def __gt__(self, obj):\n",
    "        print(\"is {0} bigger than {1}?\".format(self._name, obj._name))\n",
    "        return self._name > obj._name\n",
    "\n",
    "\n",
    "stu1 = Student(\"one\")\n",
    "stu2 = Student(\"two\")\n",
    "\n",
    "print(stu1 < stu2)\n"
   ]
  },
  {
   "cell_type": "code",
   "execution_count": 1,
   "metadata": {},
   "outputs": [
    {
     "name": "stdout",
     "output_type": "stream",
     "text": [
      "<__main__.Person object at 0x0000014D3AFD0A20>\ni am eating\n<class '__main__.Person'>\ni am playing\n<class '__main__.Person'>\ni am playing\ni am working\ni am working\n"
     ]
    }
   ],
   "source": [
    "# 类和对象的三种方法\n",
    "class Person:\n",
    "    # 实例方法\n",
    "    def eat(self):\n",
    "        print(self)\n",
    "        print(\"i am eating\")\n",
    "        \n",
    "    # 类方法：第一个参数一般为cls，区别self\n",
    "    @classmethod\n",
    "    def play(cls):\n",
    "        print(cls)\n",
    "        print(\"i am playing\")\n",
    "    \n",
    "    # 静态方法:不需要用第一个参数表示自身或者类\n",
    "    @staticmethod\n",
    "    def work():\n",
    "        print(\"i am working\")\n",
    "\n",
    "\n",
    "yue = Person()\n",
    "\n",
    "yue.eat()\n",
    "\n",
    "Person.play()\n",
    "yue.play()\n",
    "\n",
    "Person.work()\n",
    "yue.work()\n"
   ]
  },
  {
   "cell_type": "code",
   "execution_count": 2,
   "metadata": {},
   "outputs": [
    {
     "name": "stdout",
     "output_type": "stream",
     "text": [
      "liu\n"
     ]
    }
   ],
   "source": [
    "# 变量的三种用法\n",
    "class A:\n",
    "    def __init__(self):\n",
    "        self.name = \"yue\"\n",
    "        self.age = 89\n",
    "\n",
    "\n",
    "a = A()\n",
    "\n",
    "# 属性的三种用法：1.赋值；2.读取；3.删除\n",
    "a.name = \"liu\"  # 赋值\n",
    "print(a.name)  # 读取\n",
    "del a.name\n"
   ]
  },
  {
   "cell_type": "code",
   "execution_count": 4,
   "metadata": {},
   "outputs": [
    {
     "name": "stdout",
     "output_type": "stream",
     "text": [
      "yue\n\n\ni am read.\nyue\n"
     ]
    }
   ],
   "source": [
    "# 类属性 property 补充：\n",
    "# 应用场景：对变量处理普通的三种操作外增加一些附加的操作\n",
    "\n",
    "\n",
    "class A:\n",
    "    def __init__(self):\n",
    "        self.name = \"yue\"\n",
    "        self.age = 89\n",
    "    \n",
    "    # 此功能是对变量进行读取操作时执行的函数功能\n",
    "    def f_get(self):\n",
    "        print(\"i am read.\")\n",
    "        return self.name\n",
    "    \n",
    "    # 模拟的是对变量进行写操作时执行的功能\n",
    "    def f_set(self, name):\n",
    "        print(\"i am written, and i have other functions \")\n",
    "        self.name = \"Turing Group:\" + name  # 姓名加前缀\n",
    "        \n",
    "    # f_del模拟的是删除变量时的操作\n",
    "    def f_del(self):\n",
    "        pass\n",
    "    \n",
    "    # property 四个参数顺序是固定的：（读取时需调用的，写入时需调用的，删除，说明文档）\n",
    "    name2 = property(f_get, f_set, f_del, \"it is an example of property\")\n",
    "\n",
    "\n",
    "a = A()\n",
    "print(a.name)\n",
    "\n",
    "print(\"\\n\")\n",
    "print(a.name2)\n"
   ]
  },
  {
   "cell_type": "code",
   "execution_count": 6,
   "metadata": {},
   "outputs": [
    {
     "name": "stdout",
     "output_type": "stream",
     "text": [
      "hello world\n"
     ]
    }
   ],
   "source": [
    "# 抽象\n",
    "\n",
    "\n",
    "class Animal:\n",
    "    @staticmethod\n",
    "    def say_hello():\n",
    "        pass\n",
    "\n",
    "\n",
    "class Dog(Animal):\n",
    "    pass\n",
    "\n",
    "\n",
    "class Person(Animal):\n",
    "    def say_hello(self):\n",
    "        print(\"hello world\")\n",
    "        \n",
    "\n",
    "d = Dog()\n",
    "d.say_hello()\n",
    "\n",
    "p = Person()\n",
    "p.say_hello()"
   ]
  },
  {
   "cell_type": "code",
   "execution_count": 7,
   "metadata": {},
   "outputs": [],
   "source": [
    "# 抽象类的实现\n",
    "import abc\n",
    "\n",
    "\n",
    "# 声明一个类并指明当前类的元类\n",
    "class Human(metaclass=abc.ABCMeta):\n",
    "    \n",
    "    # 定义一个抽象的方法\n",
    "    @abc.abstractmethod\n",
    "    def smoking(self):\n",
    "        pass\n",
    "    \n",
    "    # 定义类抽象方法(3.3之后不支持@abc.abstractclassmethod)\n",
    "    @classmethod\n",
    "    def drinking(cls):\n",
    "        pass\n",
    "    \n",
    "    # 定义静态抽象方法\n",
    "    @staticmethod\n",
    "    def playing():\n",
    "        pass\n"
   ]
  },
  {
   "cell_type": "code",
   "execution_count": 11,
   "metadata": {},
   "outputs": [
    {
     "name": "stdout",
     "output_type": "stream",
     "text": [
      "i am saying\ni am saying\n"
     ]
    }
   ],
   "source": [
    "# 自定义一个类\n",
    "class A:\n",
    "    pass\n",
    "\n",
    "\n",
    "def say(self):\n",
    "    print(\"i am saying\")\n",
    "\n",
    "\n",
    "say(9)\n",
    "\n",
    "A.say = say\n",
    "\n",
    "a = A()\n",
    "a.say()\n"
   ]
  },
  {
   "cell_type": "code",
   "execution_count": 12,
   "metadata": {},
   "outputs": [
    {
     "name": "stdout",
     "output_type": "stream",
     "text": [
      "hey yue, how are you?\nhey yue, how are you?\n"
     ]
    }
   ],
   "source": [
    "# 函数名可以当变量使用\n",
    "\n",
    "\n",
    "def say_hello(name):\n",
    "    print(\"hey {0}, how are you?\".format(name))\n",
    "\n",
    "\n",
    "say_hello(\"yue\")\n",
    "\n",
    "liu = say_hello\n",
    "liu(\"yue\")\n"
   ]
  },
  {
   "cell_type": "code",
   "execution_count": 17,
   "metadata": {},
   "outputs": [
    {
     "name": "stdout",
     "output_type": "stream",
     "text": [
      "i am saying\n"
     ]
    }
   ],
   "source": [
    "# 组装一个类\n",
    "from types import MethodType\n",
    "\n",
    "\n",
    "class A:\n",
    "    pass\n",
    "\n",
    "\n",
    "def say(self):\n",
    "    print(\"i am saying\")\n",
    "\n",
    "\n",
    "a = A()\n",
    "a.say = MethodType(say, A)\n",
    "a.say()\n",
    "\n"
   ]
  },
  {
   "cell_type": "code",
   "execution_count": 14,
   "metadata": {},
   "outputs": [
    {
     "name": "stdout",
     "output_type": "stream",
     "text": [
      "Help on class method in module builtins:\n\nclass method(object)\n |  method(function, instance)\n |  \n |  Create a bound instance method object.\n |  \n |  Methods defined here:\n |  \n |  __call__(self, /, *args, **kwargs)\n |      Call self as a function.\n |  \n |  __delattr__(self, name, /)\n |      Implement delattr(self, name).\n |  \n |  __eq__(self, value, /)\n |      Return self==value.\n |  \n |  __ge__(self, value, /)\n |      Return self>=value.\n |  \n |  __get__(self, instance, owner, /)\n |      Return an attribute of instance, which is of type owner.\n |  \n |  __getattribute__(self, name, /)\n |      Return getattr(self, name).\n |  \n |  __gt__(self, value, /)\n |      Return self>value.\n |  \n |  __hash__(self, /)\n |      Return hash(self).\n |  \n |  __le__(self, value, /)\n |      Return self<=value.\n |  \n |  __lt__(self, value, /)\n |      Return self<value.\n |  \n |  __ne__(self, value, /)\n |      Return self!=value.\n |  \n |  __reduce__(...)\n |      Helper for pickle.\n |  \n |  __repr__(self, /)\n |      Return repr(self).\n |  \n |  __setattr__(self, name, value, /)\n |      Implement setattr(self, name, value).\n |  \n |  ----------------------------------------------------------------------\n |  Static methods defined here:\n |  \n |  __new__(*args, **kwargs) from builtins.type\n |      Create and return a new object.  See help(type) for accurate signature.\n |  \n |  ----------------------------------------------------------------------\n |  Data descriptors defined here:\n |  \n |  __func__\n |      the function (or other callable) implementing a method\n |  \n |  __self__\n |      the instance to which a method is bound\n\n"
     ]
    }
   ],
   "source": [
    "help(MethodType)\n"
   ]
  },
  {
   "cell_type": "code",
   "execution_count": 18,
   "metadata": {},
   "outputs": [
    {
     "data": {
      "text/plain": [
       "int"
      ]
     },
     "execution_count": 18,
     "metadata": {},
     "output_type": "execute_result"
    }
   ],
   "source": [
    "type(9)\n"
   ]
  },
  {
   "cell_type": "code",
   "execution_count": 20,
   "metadata": {},
   "outputs": [
    {
     "data": {
      "text/plain": [
       "'A_Name'"
      ]
     },
     "execution_count": 20,
     "metadata": {},
     "output_type": "execute_result"
    }
   ],
   "source": [
    "# 利用type造一个类\n",
    "# 先定义类应该具有的成员函数\n",
    "\n",
    "\n",
    "def say(self):\n",
    "    print(\"i am saying\")\n",
    "\n",
    "\n",
    "def talk():\n",
    "    print(\"i am talking\")\n",
    "# 用type创建一个类\n",
    "\n",
    "\n",
    "A = type(\"A_Name\", (object, ), {\"class_say\":say, \"class_talk\":talk})\n",
    "\n",
    "# 可调用\n",
    "a = A()\n",
    "A.__dict__\n",
    "A.__name__"
   ]
  },
  {
   "cell_type": "code",
   "execution_count": 1,
   "metadata": {},
   "outputs": [
    {
     "name": "stdout",
     "output_type": "stream",
     "text": [
      "i am metaclass\n"
     ]
    },
    {
     "data": {
      "text/plain": [
       "'0000'"
      ]
     },
     "execution_count": 1,
     "metadata": {},
     "output_type": "execute_result"
    }
   ],
   "source": [
    "# 元类演示\n",
    "# 元类的写法是固定的，必须继承自type\n",
    "# 命名一般以MetaClass结尾\n",
    "\n",
    "\n",
    "class TuringMetaClass(type):\n",
    "    def __new__(mcs, name, bases, attrs):\n",
    "        # 自己的业务处理\n",
    "        print(\"i am metaclass\")\n",
    "        attrs[\"id\"] = \"0000\"\n",
    "        attrs['address'] = 'Tokyo'\n",
    "        return type.__new__(mcs, name, bases, attrs)\n",
    "\n",
    "\n",
    "# 元类定义完可以使用，使用注意写法\n",
    "class Teacher(object, metaclass=TuringMetaClass):\n",
    "    pass\n",
    "\n",
    "\n",
    "t = Teacher()\n",
    "t.address\n",
    "t.id\n"
   ]
  },
  {
   "cell_type": "code",
   "execution_count": null,
   "metadata": {},
   "outputs": [],
   "source": []
  }
 ],
 "metadata": {
  "kernelspec": {
   "display_name": "Python 2",
   "language": "python",
   "name": "python2"
  },
  "language_info": {
   "codemirror_mode": {
    "name": "ipython",
    "version": 2
   },
   "file_extension": ".py",
   "mimetype": "text/x-python",
   "name": "python",
   "nbconvert_exporter": "python",
   "pygments_lexer": "ipython2",
   "version": "2.7.6"
  }
 },
 "nbformat": 4,
 "nbformat_minor": 0
}
